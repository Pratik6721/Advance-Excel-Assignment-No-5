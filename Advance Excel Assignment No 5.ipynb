{
 "cells": [
  {
   "cell_type": "markdown",
   "id": "443244d2",
   "metadata": {},
   "source": [
    "1 . How many types of conditions are available in conditional formatting on Excel?\n",
    "Ans - Mainly 5 types of conditions are available in conditional formatting on Excel.\n",
    "I. Highlight Cell Rules\n",
    "II. Top/Bottom Rules\n",
    "III. Data Bars\n",
    "IV. Color Scales\n",
    "V. Icon Sets\n",
    "\n",
    "Other conditions available are\n",
    "VI. New Rule\n",
    "VII. Clear Rules\n",
    "VIII. Manage Rules"
   ]
  },
  {
   "cell_type": "markdown",
   "id": "b4dbee8b",
   "metadata": {},
   "source": [
    "2 . How to insert border in Excel with Format Cells dialog? \n",
    "Ans - To insert border in Excel with Format Cells dialog go to\n",
    "I. Home > Cells > Format\n",
    "II. Select Format Cells\n",
    "III. Go to Border dialog box\n",
    "IV. Select the Borders that we want to apply to the cells and click on OK. Selected Borders will be apply to the cells."
   ]
  },
  {
   "cell_type": "markdown",
   "id": "716d509e",
   "metadata": {},
   "source": [
    "3 . How to Format Numbers as Currency in Excel?\n",
    "Ans - To show numbers as currency, you can apply either the Currency format or the Accounting format.\n",
    "I. Select the cells that you want to format and then, in the Number group on the Home tab, click the down arrow in the Number Format box.\n",
    "II. Choose either Currency or Accounting. The number will be formatted as currency."
   ]
  },
  {
   "cell_type": "markdown",
   "id": "bfd9275b",
   "metadata": {},
   "source": [
    "4 . What are the steps to format numbers in Excel with the Percent style?\n",
    "Ans - The steps to format numbers in Excel with the Percent style are - \n",
    "I. Select the cell that contains number.\n",
    "II. Then go to Home > Number > %\n",
    "After clicking on % the cell containing number will be formatted with Percent Style."
   ]
  },
  {
   "cell_type": "markdown",
   "id": "b1d61e41",
   "metadata": {},
   "source": [
    "5 . What is a shortcut to merge two or more cells in excel?\n",
    "Ans - Shortcut to merge two or more cells in excel - \n",
    "I. Select the cells to merge.\n",
    "II. Home > Alignment > Select Merge & Center. The selected cells will be merged into single cell.\n",
    "\n",
    "Another way to merge two or more cells in a single cell by using shortcut key is - \n",
    "I. Select the cells to merge.\n",
    "II. Press ALT + H,M,M. The selected cells will be merged into single cell."
   ]
  },
  {
   "cell_type": "markdown",
   "id": "c04663f2",
   "metadata": {},
   "source": [
    "6 . How do you use text commands in Excel?\n",
    "Ans - The TEXT function let us change the way a number appears by applying formatting to it with format codes. It is useful in situations where we want to display numbers in a more readable format, or we want to combine numbers with text or symbols.\n",
    "In its simplest form, the TEXT function says:\n",
    "   =TEXT(Value you want to format, \"Format code you want to apply\")\n",
    "Here are few examples where we can use TEXT in combination with other Excel functions as below - \n",
    "I. Concatenate text and number (or date) in a custom format\n",
    "II. Add leading zeros to numbers with variable lengths\n",
    "III. Convert values to phone numbers in a specific format"
   ]
  }
 ],
 "metadata": {
  "kernelspec": {
   "display_name": "Python 3 (ipykernel)",
   "language": "python",
   "name": "python3"
  },
  "language_info": {
   "codemirror_mode": {
    "name": "ipython",
    "version": 3
   },
   "file_extension": ".py",
   "mimetype": "text/x-python",
   "name": "python",
   "nbconvert_exporter": "python",
   "pygments_lexer": "ipython3",
   "version": "3.9.12"
  }
 },
 "nbformat": 4,
 "nbformat_minor": 5
}
